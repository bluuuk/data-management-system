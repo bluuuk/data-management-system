{
 "cells": [
  {
   "cell_type": "raw",
   "metadata": {},
   "source": [
    "https://naiveskill.com/mongodb-with-python/\n",
    "\n",
    "db=database name\n",
    "coll=collection name\n",
    "\n",
    "whichCollection.find()\n",
    "db.coll.insert_one(recordJSON)\n",
    "db.coll.insert_many(recordJSON)\n",
    "db.coll.delete_one(...)\n",
    "db.coll.delete_many(...)\n",
    "db.coll.find({ attr: { $operator: value} })\n",
    "db.coll.find({ attr: { $operator: value} [, { attr: { $operator: value}] })\n",
    "db.coll.update({attr:value},{$set:{attr:value}})\n",
    "db.coll.updateMany( { attr: {$op: val} } , { $inc: { attr: val} }\n",
    "db.coll.updateMany( { attr: {$op: val} } , { $inc: { attr: val} }\n",
    "aggreg=db.coll.aggregate( [\n",
    "{ '$group': { '_id': attr, 'total': { ’$op': ”$attr\" } } }, { '$sort': { 'total': -1 } } ])\n",
    "\n",
    "\n",
    "cur=db.coll.aggregate([\n",
    "    { \"$lookup\":\n",
    "        {\n",
    "       from: <collection to join>,\n",
    "       localField: <field from the input documents>,\n",
    "       foreignField: <field from the documents of the \"from\" collection>,\n",
    "       as: <output array field>\n",
    "        }\n",
    "    }\n",
    "])\n",
    "\n",
    "\n",
    "SOME OPERATORS:\n",
    "Name Description\n",
    "$eq Matches values that are equal to a specified value.\n",
    "$gt Matches values that are greater than a specified value. $gte Matches values that are greater than or equal to a specified value.\n",
    "$in Matches any of the values specified in an array.\n",
    "$lt Matches values that are less than a specified value. $lte Matches values that are less than or equal to a specified value.\n",
    "$ne Matches all values that are not equal to a specified value.\n",
    "$nin Matches none of the values specified in an array.\n",
    "\n",
    "Logical\n",
    "Name Description\n",
    "$and Joins query clauses with a logical AND returns all documents that match the conditions of both clauses.\n",
    "$not Inverts the effect of a query expression and returns documents that do not match the query expression.\n",
    "$nor Joins query clauses with a logical NOR returns all documents that fail to match both clauses.\n",
    "$or Joins query clauses with a logical OR returns all documents that match the conditions of either clause.\n"
   ]
  },
  {
   "cell_type": "code",
   "execution_count": 2,
   "metadata": {},
   "outputs": [],
   "source": [
    "import pymongo"
   ]
  },
  {
   "cell_type": "markdown",
   "metadata": {},
   "source": [
    "# launch the daemon"
   ]
  },
  {
   "cell_type": "markdown",
   "metadata": {},
   "source": [
    "inside the bin dir of mongo\n",
    "mkdir aulaMONGODB\n",
    "Macs-MBP-4:bin pedro$ mongod --dbpath aulaMONGODB"
   ]
  },
  {
   "cell_type": "markdown",
   "metadata": {},
   "source": [
    "# Connect the client"
   ]
  },
  {
   "cell_type": "code",
   "execution_count": 2,
   "metadata": {
    "tags": []
   },
   "outputs": [
    {
     "ename": "NameError",
     "evalue": "name 'pymongo' is not defined",
     "output_type": "error",
     "traceback": [
      "\u001b[0;31m---------------------------------------------------------------------------\u001b[0m",
      "\u001b[0;31mNameError\u001b[0m                                 Traceback (most recent call last)",
      "Cell \u001b[0;32mIn[2], line 1\u001b[0m\n\u001b[0;32m----> 1\u001b[0m client \u001b[38;5;241m=\u001b[39m \u001b[43mpymongo\u001b[49m\u001b[38;5;241m.\u001b[39mMongoClient(\u001b[38;5;124m\"\u001b[39m\u001b[38;5;124mmongodb://host.docker.internal:32768/\u001b[39m\u001b[38;5;124m\"\u001b[39m)\n",
      "\u001b[0;31mNameError\u001b[0m: name 'pymongo' is not defined"
     ]
    }
   ],
   "source": [
    "client = pymongo.MongoClient(\"mongodb://host.docker.internal:32768/\")"
   ]
  },
  {
   "cell_type": "code",
   "execution_count": 4,
   "metadata": {},
   "outputs": [
    {
     "data": {
      "text/plain": [
       "['admin', 'config', 'local', 'med_data']"
      ]
     },
     "execution_count": 4,
     "metadata": {},
     "output_type": "execute_result"
    }
   ],
   "source": [
    "client.list_database_names()"
   ]
  },
  {
   "cell_type": "markdown",
   "metadata": {},
   "source": [
    "# import restaurants and neighbourhoods JSON"
   ]
  },
  {
   "cell_type": "code",
   "execution_count": 6,
   "metadata": {},
   "outputs": [
    {
     "name": "stdout",
     "output_type": "stream",
     "text": [
      "--2023-03-21 20:01:28--  https://raw.githubusercontent.com/mongodb/docs-assets/primer-dataset/primer-dataset.json\n",
      "Resolving raw.githubusercontent.com (raw.githubusercontent.com)... 185.199.111.133, 185.199.108.133, 185.199.109.133, ...\n",
      "Connecting to raw.githubusercontent.com (raw.githubusercontent.com)|185.199.111.133|:443... connected.\n",
      "HTTP request sent, awaiting response... 200 OK\n",
      "Length: 11874761 (11M) [text/plain]\n",
      "Saving to: ‘primer-dataset.json’\n",
      "\n",
      "primer-dataset.json 100%[===================>]  11.32M  8.57MB/s    in 1.3s    \n",
      "\n",
      "2023-03-21 20:01:31 (8.57 MB/s) - ‘primer-dataset.json’ saved [11874761/11874761]\n",
      "\n"
     ]
    }
   ],
   "source": [
    "!wget https://raw.githubusercontent.com/mongodb/docs-assets/primer-dataset/primer-dataset.json"
   ]
  },
  {
   "cell_type": "markdown",
   "metadata": {},
   "source": [
    "## See databases"
   ]
  },
  {
   "cell_type": "code",
   "execution_count": null,
   "metadata": {},
   "outputs": [],
   "source": [
    "client.list_database_names()"
   ]
  },
  {
   "cell_type": "markdown",
   "metadata": {},
   "source": [
    "## Connect to restaurants, reference restaurants"
   ]
  },
  {
   "cell_type": "code",
   "execution_count": 12,
   "metadata": {},
   "outputs": [],
   "source": [
    "db = client['restaurants']"
   ]
  },
  {
   "cell_type": "code",
   "execution_count": 14,
   "metadata": {},
   "outputs": [
    {
     "data": {
      "text/plain": [
       "[]"
      ]
     },
     "execution_count": 14,
     "metadata": {},
     "output_type": "execute_result"
    }
   ],
   "source": [
    "client['restaurants'].list_collection_names()"
   ]
  },
  {
   "cell_type": "code",
   "execution_count": 15,
   "metadata": {},
   "outputs": [],
   "source": [
    "restaurants=client['restaurants']['restaurants']"
   ]
  },
  {
   "cell_type": "code",
   "execution_count": 17,
   "metadata": {},
   "outputs": [
    {
     "data": {
      "text/plain": [
       "<pymongo.results.InsertManyResult at 0xffff741eb940>"
      ]
     },
     "execution_count": 17,
     "metadata": {},
     "output_type": "execute_result"
    }
   ],
   "source": [
    "import json\n",
    "with open('./work/restaurants.json') as f:\n",
    "  data = f.readlines()\n",
    "  file_data = json.loads(\"[\" + \",\".join(data) + \"]\")\n",
    " \n",
    "restaurants.insert_many(file_data)"
   ]
  },
  {
   "cell_type": "code",
   "execution_count": 52,
   "metadata": {},
   "outputs": [
    {
     "name": "stdout",
     "output_type": "stream",
     "text": [
      "{'_id': ObjectId('641a0e7d5e7639d44270ac41'),\n",
      " 'address': {'building': '1007',\n",
      "             'coord': [-73.856077, 40.848447],\n",
      "             'street': 'Morris Park Ave',\n",
      "             'zipcode': '10462'},\n",
      " 'borough': 'Bronx',\n",
      " 'cuisine': 'Bakery',\n",
      " 'grades': [{'date': {'$date': 1393804800000}, 'grade': 'A', 'score': 2},\n",
      "            {'date': {'$date': 1378857600000}, 'grade': 'A', 'score': 6},\n",
      "            {'date': {'$date': 1358985600000}, 'grade': 'A', 'score': 10},\n",
      "            {'date': {'$date': 1322006400000}, 'grade': 'A', 'score': 9},\n",
      "            {'date': {'$date': 1299715200000}, 'grade': 'B', 'score': 14}],\n",
      " 'name': 'Morris Park Bake Shop',\n",
      " 'restaurant_id': '30075445'}\n",
      "{'_id': ObjectId('641a0e7d5e7639d44270ac42'),\n",
      " 'address': {'building': '469',\n",
      "             'coord': [-73.961704, 40.662942],\n",
      "             'street': 'Flatbush Avenue',\n",
      "             'zipcode': '11225'},\n",
      " 'borough': 'Brooklyn',\n",
      " 'cuisine': 'Hamburgers',\n",
      " 'grades': [{'date': {'$date': 1419897600000}, 'grade': 'A', 'score': 8},\n",
      "            {'date': {'$date': 1404172800000}, 'grade': 'B', 'score': 23},\n",
      "            {'date': {'$date': 1367280000000}, 'grade': 'A', 'score': 12},\n",
      "            {'date': {'$date': 1336435200000}, 'grade': 'A', 'score': 12}],\n",
      " 'name': \"Wendy'S\",\n",
      " 'restaurant_id': '30112340'}\n",
      "{'_id': ObjectId('641a0e7d5e7639d44270ac43'),\n",
      " 'address': {'building': '351',\n",
      "             'coord': [-73.98513559999999, 40.7676919],\n",
      "             'street': 'West   57 Street',\n",
      "             'zipcode': '10019'},\n",
      " 'borough': 'Manhattan',\n",
      " 'cuisine': 'Irish',\n",
      " 'grades': [{'date': {'$date': 1409961600000}, 'grade': 'A', 'score': 2},\n",
      "            {'date': {'$date': 1374451200000}, 'grade': 'A', 'score': 11},\n",
      "            {'date': {'$date': 1343692800000}, 'grade': 'A', 'score': 12},\n",
      "            {'date': {'$date': 1325116800000}, 'grade': 'A', 'score': 12}],\n",
      " 'name': 'Dj Reynolds Pub And Restaurant',\n",
      " 'restaurant_id': '30191841'}\n",
      "{'_id': ObjectId('641a0e7d5e7639d44270ac44'),\n",
      " 'address': {'building': '2780',\n",
      "             'coord': [-73.98241999999999, 40.579505],\n",
      "             'street': 'Stillwell Avenue',\n",
      "             'zipcode': '11224'},\n",
      " 'borough': 'Brooklyn',\n",
      " 'cuisine': 'American',\n",
      " 'grades': [{'date': {'$date': 1402358400000}, 'grade': 'A', 'score': 5},\n",
      "            {'date': {'$date': 1370390400000}, 'grade': 'A', 'score': 7},\n",
      "            {'date': {'$date': 1334275200000}, 'grade': 'A', 'score': 12},\n",
      "            {'date': {'$date': 1318377600000}, 'grade': 'A', 'score': 12}],\n",
      " 'name': 'Riviera Caterer',\n",
      " 'restaurant_id': '40356018'}\n",
      "{'_id': ObjectId('641a0e7d5e7639d44270ac45'),\n",
      " 'address': {'building': '97-22',\n",
      "             'coord': [-73.8601152, 40.7311739],\n",
      "             'street': '63 Road',\n",
      "             'zipcode': '11374'},\n",
      " 'borough': 'Queens',\n",
      " 'cuisine': 'Jewish/Kosher',\n",
      " 'grades': [{'date': {'$date': 1416787200000}, 'grade': 'Z', 'score': 20},\n",
      "            {'date': {'$date': 1358380800000}, 'grade': 'A', 'score': 13},\n",
      "            {'date': {'$date': 1343865600000}, 'grade': 'A', 'score': 13},\n",
      "            {'date': {'$date': 1323907200000}, 'grade': 'B', 'score': 25}],\n",
      " 'name': 'Tov Kosher Kitchen',\n",
      " 'restaurant_id': '40356068'}\n"
     ]
    }
   ],
   "source": [
    "import pprint\n",
    "for restaurant in restaurants.find()[:5]:\n",
    "    pprint.pprint(restaurant)"
   ]
  },
  {
   "cell_type": "markdown",
   "metadata": {},
   "source": [
    "## Compute the average scores of the restaurants. "
   ]
  },
  {
   "cell_type": "markdown",
   "metadata": {},
   "source": [
    "We pass an array to the aggregate function. \n",
    "\n",
    "The $unwind parameter is used to deconstruct the grades array in order to output a document for each element. \n",
    "\n",
    "Next we use the $match parameter including everything (by using open and closing braces). We could filter further here by providing additional criteria. \n",
    "\n",
    "Next we use the $group parameter to group the data that we want to apply the computation to. \n",
    "\n",
    "Finally we create new key called “Avg grade” and apply the $avg (average) parameter to the grades scores of individual restaurants referencing grades followed by a dot and the score key.\n",
    "\n",
    "There are many other parameters that can be used for common computations such as $sum, $min, $max etc."
   ]
  },
  {
   "cell_type": "code",
   "execution_count": 172,
   "metadata": {
    "tags": []
   },
   "outputs": [],
   "source": [
    "#complete the next code to do it...see the result...WHY DOES IT NOT WORK? go back to understand based \n",
    "#on restaurants data\n",
    "\n",
    "result = restaurants.aggregate(\n",
    "  [\n",
    "     {\"$match\": {}}, \n",
    "     {\"$group\": {\"_id\": \"$restaurant_id\", \"Avg grade\": {\"$avg\": \"$grades.score\" }\n",
    "      }\n",
    "      }\n",
    "  ]\n",
    ")"
   ]
  },
  {
   "cell_type": "code",
   "execution_count": 173,
   "metadata": {},
   "outputs": [
    {
     "name": "stdout",
     "output_type": "stream",
     "text": [
      "{'_id': '50001415', 'Avg grade': None}\n",
      "{'_id': '41294917', 'Avg grade': None}\n",
      "{'_id': '41058103', 'Avg grade': None}\n",
      "{'_id': '41329496', 'Avg grade': None}\n",
      "{'_id': '41461464', 'Avg grade': None}\n",
      "{'_id': '41538914', 'Avg grade': None}\n",
      "{'_id': '50002354', 'Avg grade': None}\n",
      "{'_id': '50005630', 'Avg grade': None}\n",
      "{'_id': '41313420', 'Avg grade': None}\n",
      "{'_id': '40889676', 'Avg grade': None}\n",
      "{'_id': '50011120', 'Avg grade': None}\n",
      "{'_id': '50015072', 'Avg grade': None}\n",
      "{'_id': '41278303', 'Avg grade': None}\n",
      "{'_id': '40387086', 'Avg grade': None}\n",
      "{'_id': '41637060', 'Avg grade': None}\n",
      "{'_id': '41500477', 'Avg grade': None}\n",
      "{'_id': '41519339', 'Avg grade': None}\n",
      "{'_id': '41699005', 'Avg grade': None}\n",
      "{'_id': '50010813', 'Avg grade': None}\n",
      "{'_id': '50015399', 'Avg grade': None}\n"
     ]
    }
   ],
   "source": [
    "for item in list(result)[:20]:\n",
    "    print(item)"
   ]
  },
  {
   "cell_type": "code",
   "execution_count": 174,
   "metadata": {},
   "outputs": [],
   "source": [
    "#do it again, but now add unwind. See the result table....What does unwind do, what changes and why does it \n",
    "#work now?\n",
    "\n",
    "result = restaurants.aggregate(\n",
    "  [\n",
    "     {\"$unwind\": \"$grades\"},\n",
    "     {\"$match\": {}}, \n",
    "     {\"$group\": {\"_id\": \"$restaurant_id\", \"Avg grade\": {\"$avg\": \"$grades.score\" }}}\n",
    "  ]\n",
    ")"
   ]
  },
  {
   "cell_type": "code",
   "execution_count": 175,
   "metadata": {},
   "outputs": [],
   "source": [
    "#redo query but now also sort the returned in ascending or descending order. \n",
    "#We could simply add another line with the sort parameter specifying which field to sort by. \n",
    "#1 (ascending) or -1 (descending).\n",
    "\n",
    "#do it again, but now add unwind. See the result table....What does unwind do, what changes and why does it \n",
    "#work now?\n",
    "\n",
    "result = restaurants.aggregate(\n",
    "  [\n",
    "     {\"$unwind\": \"$grades\"},\n",
    "     {\"$match\": {}}, \n",
    "     {\"$group\": {\"_id\": \"$restaurant_id\", \"Avg grade\": {\"$avg\": \"$grades.score\" }}},\n",
    "     {\"$sort\": {\"Avg grade\": -1}}\n",
    "  ]\n",
    ")"
   ]
  },
  {
   "cell_type": "code",
   "execution_count": 176,
   "metadata": {},
   "outputs": [
    {
     "name": "stdout",
     "output_type": "stream",
     "text": [
      "{'_id': '50015959', 'Avg grade': 75.0}\n",
      "{'_id': '50017374', 'Avg grade': 73.0}\n",
      "{'_id': '50018457', 'Avg grade': 69.0}\n",
      "{'_id': '50015245', 'Avg grade': 69.0}\n",
      "{'_id': '41703965', 'Avg grade': 65.0}\n",
      "{'_id': '50017252', 'Avg grade': 61.0}\n",
      "{'_id': '50011285', 'Avg grade': 61.0}\n",
      "{'_id': '50013507', 'Avg grade': 60.0}\n",
      "{'_id': '50011359', 'Avg grade': 60.0}\n",
      "{'_id': '50018376', 'Avg grade': 58.0}\n",
      "{'_id': '50016721', 'Avg grade': 56.0}\n",
      "{'_id': '50016506', 'Avg grade': 56.0}\n",
      "{'_id': '50015482', 'Avg grade': 56.0}\n",
      "{'_id': '50018079', 'Avg grade': 56.0}\n",
      "{'_id': '50018468', 'Avg grade': 56.0}\n",
      "{'_id': '50016149', 'Avg grade': 54.0}\n",
      "{'_id': '50000607', 'Avg grade': 53.0}\n",
      "{'_id': '41720129', 'Avg grade': 53.0}\n",
      "{'_id': '50018202', 'Avg grade': 53.0}\n",
      "{'_id': '50016844', 'Avg grade': 52.0}\n"
     ]
    }
   ],
   "source": [
    "#print result, see if ot is sorted correctly:\n",
    "for item in list(result)[:20]:\n",
    "    print(item)"
   ]
  },
  {
   "cell_type": "markdown",
   "metadata": {},
   "source": [
    "# Convert data from a Mongo database into tabular form as a Panda’s dataframe object"
   ]
  },
  {
   "cell_type": "code",
   "execution_count": 42,
   "metadata": {},
   "outputs": [],
   "source": [
    "import pandas as pd\n",
    "\n",
    "extracted_data = restaurants.find({},{\"borough\": \"Bronx\", \"cuisine\": \"Bakery\", \"name\": 1})\n",
    "bronx_bakeries = list(extracted_data)\n",
    "\n",
    "bakeries=pd.DataFrame.from_dict(bronx_bakeries)\n",
    "bakeries = bakeries.set_index(\"_id\")"
   ]
  },
  {
   "cell_type": "code",
   "execution_count": 43,
   "metadata": {},
   "outputs": [
    {
     "data": {
      "text/html": [
       "<div>\n",
       "<style scoped>\n",
       "    .dataframe tbody tr th:only-of-type {\n",
       "        vertical-align: middle;\n",
       "    }\n",
       "\n",
       "    .dataframe tbody tr th {\n",
       "        vertical-align: top;\n",
       "    }\n",
       "\n",
       "    .dataframe thead th {\n",
       "        text-align: right;\n",
       "    }\n",
       "</style>\n",
       "<table border=\"1\" class=\"dataframe\">\n",
       "  <thead>\n",
       "    <tr style=\"text-align: right;\">\n",
       "      <th></th>\n",
       "      <th>name</th>\n",
       "      <th>borough</th>\n",
       "      <th>cuisine</th>\n",
       "    </tr>\n",
       "    <tr>\n",
       "      <th>_id</th>\n",
       "      <th></th>\n",
       "      <th></th>\n",
       "      <th></th>\n",
       "    </tr>\n",
       "  </thead>\n",
       "  <tbody>\n",
       "    <tr>\n",
       "      <th>641a0e7d5e7639d44270ac41</th>\n",
       "      <td>Morris Park Bake Shop</td>\n",
       "      <td>Bronx</td>\n",
       "      <td>Bakery</td>\n",
       "    </tr>\n",
       "    <tr>\n",
       "      <th>641a0e7d5e7639d44270ac42</th>\n",
       "      <td>Wendy'S</td>\n",
       "      <td>Bronx</td>\n",
       "      <td>Bakery</td>\n",
       "    </tr>\n",
       "    <tr>\n",
       "      <th>641a0e7d5e7639d44270ac43</th>\n",
       "      <td>Dj Reynolds Pub And Restaurant</td>\n",
       "      <td>Bronx</td>\n",
       "      <td>Bakery</td>\n",
       "    </tr>\n",
       "    <tr>\n",
       "      <th>641a0e7d5e7639d44270ac44</th>\n",
       "      <td>Riviera Caterer</td>\n",
       "      <td>Bronx</td>\n",
       "      <td>Bakery</td>\n",
       "    </tr>\n",
       "    <tr>\n",
       "      <th>641a0e7d5e7639d44270ac45</th>\n",
       "      <td>Tov Kosher Kitchen</td>\n",
       "      <td>Bronx</td>\n",
       "      <td>Bakery</td>\n",
       "    </tr>\n",
       "    <tr>\n",
       "      <th>...</th>\n",
       "      <td>...</td>\n",
       "      <td>...</td>\n",
       "      <td>...</td>\n",
       "    </tr>\n",
       "    <tr>\n",
       "      <th>641a0e7d5e7639d442710f4b</th>\n",
       "      <td>Subway</td>\n",
       "      <td>Bronx</td>\n",
       "      <td>Bakery</td>\n",
       "    </tr>\n",
       "    <tr>\n",
       "      <th>641a0e7d5e7639d442710f4c</th>\n",
       "      <td>Fairfield Inn Suites Penn Station</td>\n",
       "      <td>Bronx</td>\n",
       "      <td>Bakery</td>\n",
       "    </tr>\n",
       "    <tr>\n",
       "      <th>641a0e7d5e7639d442710f4d</th>\n",
       "      <td></td>\n",
       "      <td>Bronx</td>\n",
       "      <td>Bakery</td>\n",
       "    </tr>\n",
       "    <tr>\n",
       "      <th>641a0e7d5e7639d442710f4e</th>\n",
       "      <td>Indian Oven</td>\n",
       "      <td>Bronx</td>\n",
       "      <td>Bakery</td>\n",
       "    </tr>\n",
       "    <tr>\n",
       "      <th>641a0e7d5e7639d442710f4f</th>\n",
       "      <td>Cold Press'D</td>\n",
       "      <td>Bronx</td>\n",
       "      <td>Bakery</td>\n",
       "    </tr>\n",
       "  </tbody>\n",
       "</table>\n",
       "<p>25359 rows × 3 columns</p>\n",
       "</div>"
      ],
      "text/plain": [
       "                                                       name borough cuisine\n",
       "_id                                                                        \n",
       "641a0e7d5e7639d44270ac41              Morris Park Bake Shop   Bronx  Bakery\n",
       "641a0e7d5e7639d44270ac42                            Wendy'S   Bronx  Bakery\n",
       "641a0e7d5e7639d44270ac43     Dj Reynolds Pub And Restaurant   Bronx  Bakery\n",
       "641a0e7d5e7639d44270ac44                    Riviera Caterer   Bronx  Bakery\n",
       "641a0e7d5e7639d44270ac45                 Tov Kosher Kitchen   Bronx  Bakery\n",
       "...                                                     ...     ...     ...\n",
       "641a0e7d5e7639d442710f4b                             Subway   Bronx  Bakery\n",
       "641a0e7d5e7639d442710f4c  Fairfield Inn Suites Penn Station   Bronx  Bakery\n",
       "641a0e7d5e7639d442710f4d                                      Bronx  Bakery\n",
       "641a0e7d5e7639d442710f4e                        Indian Oven   Bronx  Bakery\n",
       "641a0e7d5e7639d442710f4f                       Cold Press'D   Bronx  Bakery\n",
       "\n",
       "[25359 rows x 3 columns]"
      ]
     },
     "execution_count": 43,
     "metadata": {},
     "output_type": "execute_result"
    }
   ],
   "source": [
    "bakeries"
   ]
  },
  {
   "cell_type": "markdown",
   "metadata": {},
   "source": [
    "# Using the mongodb query and a python dataframe:\n",
    "\n",
    "Show a table and a chart with the average ratings per restarurant, the top 5 and the tail 5. \n",
    "\n",
    "Since the tail 5 will show no valid info, remove nulls and also remove those with avg rating 0,\n",
    "show the remianing ones\n"
   ]
  },
  {
   "cell_type": "code",
   "execution_count": 162,
   "metadata": {},
   "outputs": [],
   "source": [
    "#complete the code:\n",
    "\n",
    "result = restaurants.aggregate( \n",
    "  [\n",
    "     {\"$match\": {}}, \n",
    "     {\"$unwind\": \"$grades\"},\n",
    "     {\"$group\": {\"_id\": \"$restaurant_id\", \"Avg grade\": {\"$avg\": \"$grades.score\" }}},\n",
    "  ]\n",
    ")\n",
    "bakeriesAVGPD=pd.DataFrame(list(result))\n",
    "bakeriesAVGPD=bakeriesAVGPD.dropna().sort_values(\"Avg grade\",ascending=False)"
   ]
  },
  {
   "cell_type": "code",
   "execution_count": 74,
   "metadata": {},
   "outputs": [
    {
     "data": {
      "text/html": [
       "<div>\n",
       "<style scoped>\n",
       "    .dataframe tbody tr th:only-of-type {\n",
       "        vertical-align: middle;\n",
       "    }\n",
       "\n",
       "    .dataframe tbody tr th {\n",
       "        vertical-align: top;\n",
       "    }\n",
       "\n",
       "    .dataframe thead th {\n",
       "        text-align: right;\n",
       "    }\n",
       "</style>\n",
       "<table border=\"1\" class=\"dataframe\">\n",
       "  <thead>\n",
       "    <tr style=\"text-align: right;\">\n",
       "      <th></th>\n",
       "      <th>_id</th>\n",
       "      <th>Avg grade</th>\n",
       "    </tr>\n",
       "  </thead>\n",
       "  <tbody>\n",
       "    <tr>\n",
       "      <th>19669</th>\n",
       "      <td>50015959</td>\n",
       "      <td>75.0</td>\n",
       "    </tr>\n",
       "    <tr>\n",
       "      <th>17078</th>\n",
       "      <td>50017374</td>\n",
       "      <td>73.0</td>\n",
       "    </tr>\n",
       "    <tr>\n",
       "      <th>2141</th>\n",
       "      <td>50015245</td>\n",
       "      <td>69.0</td>\n",
       "    </tr>\n",
       "    <tr>\n",
       "      <th>13859</th>\n",
       "      <td>50018457</td>\n",
       "      <td>69.0</td>\n",
       "    </tr>\n",
       "    <tr>\n",
       "      <th>12270</th>\n",
       "      <td>41703965</td>\n",
       "      <td>65.0</td>\n",
       "    </tr>\n",
       "    <tr>\n",
       "      <th>19573</th>\n",
       "      <td>50012467</td>\n",
       "      <td>0.0</td>\n",
       "    </tr>\n",
       "    <tr>\n",
       "      <th>5010</th>\n",
       "      <td>41694724</td>\n",
       "      <td>0.0</td>\n",
       "    </tr>\n",
       "    <tr>\n",
       "      <th>9653</th>\n",
       "      <td>50015809</td>\n",
       "      <td>0.0</td>\n",
       "    </tr>\n",
       "    <tr>\n",
       "      <th>6559</th>\n",
       "      <td>50000576</td>\n",
       "      <td>0.0</td>\n",
       "    </tr>\n",
       "    <tr>\n",
       "      <th>13451</th>\n",
       "      <td>50012634</td>\n",
       "      <td>-1.0</td>\n",
       "    </tr>\n",
       "  </tbody>\n",
       "</table>\n",
       "</div>"
      ],
      "text/plain": [
       "            _id  Avg grade\n",
       "19669  50015959       75.0\n",
       "17078  50017374       73.0\n",
       "2141   50015245       69.0\n",
       "13859  50018457       69.0\n",
       "12270  41703965       65.0\n",
       "19573  50012467        0.0\n",
       "5010   41694724        0.0\n",
       "9653   50015809        0.0\n",
       "6559   50000576        0.0\n",
       "13451  50012634       -1.0"
      ]
     },
     "execution_count": 74,
     "metadata": {},
     "output_type": "execute_result"
    }
   ],
   "source": [
    "pd.concat([bakeriesAVGPD.head(5),bakeriesAVGPD.tail(5)])"
   ]
  },
  {
   "cell_type": "code",
   "execution_count": 75,
   "metadata": {},
   "outputs": [
    {
     "data": {
      "image/png": "[encoded data removed]",
      "text/plain": [
       "<Figure size 640x480 with 1 Axes>"
      ]
     },
     "metadata": {},
     "output_type": "display_data"
    }
   ],
   "source": [
    "#complete to plot the top 5 chart:\n",
    "\n",
    "import matplotlib.pyplot as plt\n",
    "\n",
    "plt.bar(bakeriesAVGPD.head(5)['_id'],bakeriesAVGPD.head(5)[\"Avg grade\"])\n",
    "plt.xticks(rotation=90)\n",
    "plt.show()"
   ]
  },
  {
   "cell_type": "code",
   "execution_count": 77,
   "metadata": {},
   "outputs": [
    {
     "data": {
      "image/png": "[encoded data removed]",
      "text/plain": [
       "<Figure size 640x480 with 1 Axes>"
      ]
     },
     "metadata": {},
     "output_type": "display_data"
    }
   ],
   "source": [
    "#complete to plot the top 5 chart:\n",
    "\n",
    "import matplotlib.pyplot as plt\n",
    "\n",
    "plt.bar(bakeriesAVGPD.tail(5)['_id'],bakeriesAVGPD.tail(5)[\"Avg grade\"])\n",
    "plt.xticks(rotation=90)\n",
    "plt.show()"
   ]
  },
  {
   "cell_type": "code",
   "execution_count": 80,
   "metadata": {},
   "outputs": [
    {
     "data": {
      "text/html": [
       "<div>\n",
       "<style scoped>\n",
       "    .dataframe tbody tr th:only-of-type {\n",
       "        vertical-align: middle;\n",
       "    }\n",
       "\n",
       "    .dataframe tbody tr th {\n",
       "        vertical-align: top;\n",
       "    }\n",
       "\n",
       "    .dataframe thead th {\n",
       "        text-align: right;\n",
       "    }\n",
       "</style>\n",
       "<table border=\"1\" class=\"dataframe\">\n",
       "  <thead>\n",
       "    <tr style=\"text-align: right;\">\n",
       "      <th></th>\n",
       "      <th>_id</th>\n",
       "      <th>Avg grade</th>\n",
       "    </tr>\n",
       "  </thead>\n",
       "  <tbody>\n",
       "    <tr>\n",
       "      <th>19669</th>\n",
       "      <td>50015959</td>\n",
       "      <td>75.000000</td>\n",
       "    </tr>\n",
       "    <tr>\n",
       "      <th>17078</th>\n",
       "      <td>50017374</td>\n",
       "      <td>73.000000</td>\n",
       "    </tr>\n",
       "    <tr>\n",
       "      <th>2141</th>\n",
       "      <td>50015245</td>\n",
       "      <td>69.000000</td>\n",
       "    </tr>\n",
       "    <tr>\n",
       "      <th>13859</th>\n",
       "      <td>50018457</td>\n",
       "      <td>69.000000</td>\n",
       "    </tr>\n",
       "    <tr>\n",
       "      <th>12270</th>\n",
       "      <td>41703965</td>\n",
       "      <td>65.000000</td>\n",
       "    </tr>\n",
       "    <tr>\n",
       "      <th>...</th>\n",
       "      <td>...</td>\n",
       "      <td>...</td>\n",
       "    </tr>\n",
       "    <tr>\n",
       "      <th>23399</th>\n",
       "      <td>41618402</td>\n",
       "      <td>0.666667</td>\n",
       "    </tr>\n",
       "    <tr>\n",
       "      <th>1974</th>\n",
       "      <td>41618440</td>\n",
       "      <td>0.666667</td>\n",
       "    </tr>\n",
       "    <tr>\n",
       "      <th>3577</th>\n",
       "      <td>41618385</td>\n",
       "      <td>0.666667</td>\n",
       "    </tr>\n",
       "    <tr>\n",
       "      <th>5296</th>\n",
       "      <td>41611748</td>\n",
       "      <td>0.500000</td>\n",
       "    </tr>\n",
       "    <tr>\n",
       "      <th>12711</th>\n",
       "      <td>41611720</td>\n",
       "      <td>0.500000</td>\n",
       "    </tr>\n",
       "  </tbody>\n",
       "</table>\n",
       "<p>24454 rows × 2 columns</p>\n",
       "</div>"
      ],
      "text/plain": [
       "            _id  Avg grade\n",
       "19669  50015959  75.000000\n",
       "17078  50017374  73.000000\n",
       "2141   50015245  69.000000\n",
       "13859  50018457  69.000000\n",
       "12270  41703965  65.000000\n",
       "...         ...        ...\n",
       "23399  41618402   0.666667\n",
       "1974   41618440   0.666667\n",
       "3577   41618385   0.666667\n",
       "5296   41611748   0.500000\n",
       "12711  41611720   0.500000\n",
       "\n",
       "[24454 rows x 2 columns]"
      ]
     },
     "execution_count": 80,
     "metadata": {},
     "output_type": "execute_result"
    }
   ],
   "source": [
    "#drop rows with null values and complete the following code to work well\n",
    "\n",
    "filter = bakeriesAVGPD[\"Avg grade\"]>0\n",
    "  \n",
    "# filtering data\n",
    "bakeriesAVGPD1=bakeriesAVGPD.where(filter, inplace = False)\n",
    "  \n",
    "# display\n",
    "bakeriesAVGPD1.dropna()"
   ]
  },
  {
   "cell_type": "markdown",
   "metadata": {},
   "source": [
    "# Next we want to see avergae grades per LOCATION (borough=neighborhood) instead of per restaurant"
   ]
  },
  {
   "cell_type": "code",
   "execution_count": 157,
   "metadata": {},
   "outputs": [
    {
     "data": {
      "text/plain": [
       "[{'Borough': [{'_id': 'Manhattan'},\n",
       "   {'_id': 'Bronx'},\n",
       "   {'_id': 'Staten Island'},\n",
       "   {'_id': 'Missing'},\n",
       "   {'_id': 'Queens'},\n",
       "   {'_id': 'Brooklyn'}],\n",
       "  'Avg': [{'_id': 'Brooklyn', 'V': 11.44797595737899},\n",
       "   {'_id': 'Manhattan', 'V': 11.418151216986018},\n",
       "   {'_id': 'Staten Island', 'V': 11.370957711442786},\n",
       "   {'_id': 'Missing', 'V': 9.632911392405063},\n",
       "   {'_id': 'Queens', 'V': 11.634865110930088},\n",
       "   {'_id': 'Bronx', 'V': 11.036186099942562}],\n",
       "  'Max': [{'_id': 'Bronx', 'V': 82},\n",
       "   {'_id': 'Brooklyn', 'V': 86},\n",
       "   {'_id': 'Manhattan', 'V': 131},\n",
       "   {'_id': 'Queens', 'V': 84},\n",
       "   {'_id': 'Staten Island', 'V': 68},\n",
       "   {'_id': 'Missing', 'V': 47}],\n",
       "  'Stdev': [{'_id': 'Bronx', 'V': 7.017117017155606},\n",
       "   {'_id': 'Manhattan', 'V': 7.433047046784533},\n",
       "   {'_id': 'Staten Island', 'V': 6.623126963476623},\n",
       "   {'_id': 'Missing', 'V': 6.610649664908034},\n",
       "   {'_id': 'Queens', 'V': 7.252487538887249},\n",
       "   {'_id': 'Brooklyn', 'V': 7.392521214522643}],\n",
       "  'Bot5': [{'_id': 'Missing', 'V': [[2], [2], [2], [2], [0]]},\n",
       "   {'_id': 'Queens', 'V': [[None], [None], [None], [None], [None]]},\n",
       "   {'_id': 'Bronx', 'V': [[0], [0], [0], [0], [None]]},\n",
       "   {'_id': 'Brooklyn', 'V': [[-1], [-1], [-1], [None], [None]]},\n",
       "   {'_id': 'Staten Island', 'V': [[0], [0], [0], [-1], [-1]]},\n",
       "   {'_id': 'Manhattan', 'V': [[-1], [-1], [-1], [None], [None]]}],\n",
       "  'Top5': [{'_id': 'Queens', 'V': [[84], [78], [73], [73], [70]]},\n",
       "   {'_id': 'Missing', 'V': [[47], [40], [23], [21], [13]]},\n",
       "   {'_id': 'Manhattan', 'V': [[131], [98], [98], [92], [90]]},\n",
       "   {'_id': 'Bronx', 'V': [[82], [76], [75], [73], [73]]},\n",
       "   {'_id': 'Brooklyn', 'V': [[86], [81], [78], [77], [77]]},\n",
       "   {'_id': 'Staten Island', 'V': [[68], [65], [60], [58], [58]]}]}]"
      ]
     },
     "execution_count": 157,
     "metadata": {},
     "output_type": "execute_result"
    }
   ],
   "source": [
    "\n",
    "# Show tables with the average, max and stdev ratings per location, charts with top 5, tail 5 and all of average \n",
    "# rating\n",
    "\n",
    "result = restaurants.aggregate(\n",
    "  [\n",
    "    {\"$match\": {\"borough\":{\"$ne\": None}}},\n",
    "    {\"$unwind\": \"$grades\"},\n",
    "     {\"$facet\" : {\n",
    "      \"Borough\" : [{\"$group\": {\"_id\": \"$borough\"}}],\n",
    "      \"Avg\" : [{\"$group\": {\"_id\": \"$borough\", \"V\": {\"$avg\": \"$grades.score\" }}}],\n",
    "      \"Max\" : [{\"$group\": {\"_id\": \"$borough\", \"V\": {\"$max\": \"$grades.score\" }}}],\n",
    "      \"Stdev\" : [{\"$group\": {\"_id\": \"$borough\", \"V\": {\"$stdDevPop\": \"$grades.score\" }}}],\n",
    "      \"Bot5\" : [{\"$group\": {\"_id\": \"$borough\", \"V\": {\n",
    "        \"$bottomN\": {\"n\":5 , \"output\": [ \"$grades.score\" ],\"sortBy\": { \"grades.score\": -1 },}}}}\n",
    "        ],\n",
    "      \"Top5\" : [{\"$group\": {\"_id\": \"$borough\", \"V\": {\n",
    "        \"$topN\": {\"n\":5 , \"output\": [ \"$grades.score\" ],\"sortBy\": { \"grades.score\": -1 },}}}}\n",
    "        ],\n",
    "     }\n",
    "     },\n",
    "  ]\n",
    ")\n",
    "\n",
    "bakeriesAVG = list(result)\n",
    "\n",
    "bakeriesAVGPD=pd.DataFrame.from_dict(*bakeriesAVG)\n",
    "bakeriesAVG"
   ]
  },
  {
   "cell_type": "code",
   "execution_count": null,
   "metadata": {},
   "outputs": [],
   "source": [
    "#complete to show the head and tail 5\n",
    "\n",
    "import matplotlib.pyplot as plt\n",
    "\n",
    "plt.bar(*bakeriesAVGPD[\"Top5\"],bakeriesAVGPD.head(5)[\"?\"])\n",
    "plt.xticks(rotation=90)\n",
    "plt.show()\n",
    "\n",
    "?"
   ]
  },
  {
   "cell_type": "code",
   "execution_count": null,
   "metadata": {},
   "outputs": [],
   "source": [
    "#complete to show all values\n",
    "\n",
    "plt.bar(bakeriesAVGPD['?'],bakeriesAVGPD[\"?\"])\n",
    "plt.xticks(rotation=90)\n",
    "plt.show()"
   ]
  },
  {
   "cell_type": "markdown",
   "metadata": {},
   "source": [
    "# The end !!!!"
   ]
  }
 ],
 "metadata": {
  "kernelspec": {
   "display_name": "Python 3 (ipykernel)",
   "language": "python",
   "name": "python3"
  },
  "language_info": {
   "codemirror_mode": {
    "name": "ipython",
    "version": 3
   },
   "file_extension": ".py",
   "mimetype": "text/x-python",
   "name": "python",
   "nbconvert_exporter": "python",
   "pygments_lexer": "ipython3",
   "version": "3.10.9"
  },
  "toc": {
   "base_numbering": 1,
   "nav_menu": {},
   "number_sections": true,
   "sideBar": true,
   "skip_h1_title": false,
   "title_cell": "Table of Contents",
   "title_sidebar": "Contents",
   "toc_cell": false,
   "toc_position": {},
   "toc_section_display": true,
   "toc_window_display": false
  },
  "varInspector": {
   "cols": {
    "lenName": 16,
    "lenType": 16,
    "lenVar": 40
   },
   "kernels_config": {
    "python": {
     "delete_cmd_postfix": "",
     "delete_cmd_prefix": "del ",
     "library": "var_list.py",
     "varRefreshCmd": "print(var_dic_list())"
    },
    "r": {
     "delete_cmd_postfix": ") ",
     "delete_cmd_prefix": "rm(",
     "library": "var_list.r",
     "varRefreshCmd": "cat(var_dic_list()) "
    }
   },
   "types_to_exclude": [
    "module",
    "function",
    "builtin_function_or_method",
    "instance",
    "_Feature"
   ],
   "window_display": false
  }
 },
 "nbformat": 4,
 "nbformat_minor": 4
}
