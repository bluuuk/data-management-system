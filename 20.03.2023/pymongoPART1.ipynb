{
 "cells": [
  {
   "attachments": {},
   "cell_type": "markdown",
   "metadata": {},
   "source": [
    "https://naiveskill.com/mongodb-with-python/\n",
    "\n",
    "```python\n",
    "db=database name\n",
    "coll=collection name\n",
    "\n",
    "whichCollection.find()\n",
    "db.coll.insert_one(recordJSON)\n",
    "db.coll.insert_many(recordJSON)\n",
    "db.coll.delete_one(...)\n",
    "db.coll.delete_many(...)\n",
    "db.coll.find({ attr: { $operator: value} })\n",
    "db.coll.find({ attr: { $operator: value} [, { attr: { $operator: value}] })\n",
    "db.coll.update({attr:value},{$set:{attr:value}})\n",
    "db.coll.updateMany( { attr: {$op: val} } , { $inc: { attr: val} }\n",
    "db.coll.updateMany( { attr: {$op: val} } , { $inc: { attr: val} }\n",
    "aggreg=db.coll.aggregate( [\n",
    "{ '$group': { '_id': attr, 'total': { ’$op': ”$attr\" } } }, { '$sort': { 'total': -1 } } ])\n",
    "\n",
    "\n",
    "cur=db.coll.aggregate([\n",
    "    { \"$lookup\":\n",
    "        {\n",
    "       from: <collection to join>,\n",
    "       localField: <field from the input documents>,\n",
    "       foreignField: <field from the documents of the \"from\" collection>,\n",
    "       as: <output array field>\n",
    "        }\n",
    "    }\n",
    "])\n",
    "```\n",
    "\n",
    "SOME OPERATORS:\n",
    "Name Description\n",
    "$eq Matches values that are equal to a specified value.\n",
    "$gt Matches values that are greater than a specified value. $gte Matches values that are greater than or equal to a specified value.\n",
    "$in Matches any of the values specified in an array.\n",
    "$lt Matches values that are less than a specified value. $lte Matches values that are less than or equal to a specified value.\n",
    "$ne Matches all values that are not equal to a specified value.\n",
    "$nin Matches none of the values specified in an array.\n",
    "\n",
    "Logical\n",
    "Name Description\n",
    "$and Joins query clauses with a logical AND returns all documents that match the conditions of both clauses.\n",
    "$not Inverts the effect of a query expression and returns documents that do not match the query expression.\n",
    "$nor Joins query clauses with a logical NOR returns all documents that fail to match both clauses.\n",
    "$or Joins query clauses with a logical OR returns all documents that match the conditions of either clause.\n"
   ]
  },
  {
   "cell_type": "markdown",
   "metadata": {},
   "source": [
    "# Import pymongo (install if needed)"
   ]
  },
  {
   "cell_type": "code",
   "execution_count": 2,
   "metadata": {},
   "outputs": [
    {
     "name": "stdout",
     "output_type": "stream",
     "text": [
      "Collecting pymongo\n",
      "  Downloading pymongo-4.3.3-cp310-cp310-manylinux_2_17_aarch64.manylinux2014_aarch64.whl (493 kB)\n",
      "\u001b[2K     \u001b[90m━━━━━━━━━━━━━━━━━━━━━━━━━━━━━━━━━━━━━━━\u001b[0m \u001b[32m493.3/493.3 kB\u001b[0m \u001b[31m4.5 MB/s\u001b[0m eta \u001b[36m0:00:00\u001b[0ma \u001b[36m0:00:01\u001b[0m\n",
      "\u001b[?25hCollecting dnspython<3.0.0,>=1.16.0\n",
      "  Downloading dnspython-2.3.0-py3-none-any.whl (283 kB)\n",
      "\u001b[2K     \u001b[90m━━━━━━━━━━━━━━━━━━━━━━━━━━━━━━━━━━━━━━━\u001b[0m \u001b[32m283.7/283.7 kB\u001b[0m \u001b[31m5.0 MB/s\u001b[0m eta \u001b[36m0:00:00\u001b[0ma \u001b[36m0:00:01\u001b[0m\n",
      "\u001b[?25hInstalling collected packages: dnspython, pymongo\n",
      "Successfully installed dnspython-2.3.0 pymongo-4.3.3\n",
      "Note: you may need to restart the kernel to use updated packages.\n"
     ]
    }
   ],
   "source": [
    "%pip install pymongo"
   ]
  },
  {
   "cell_type": "code",
   "execution_count": 3,
   "metadata": {},
   "outputs": [],
   "source": [
    "import pymongo"
   ]
  },
  {
   "cell_type": "markdown",
   "metadata": {},
   "source": [
    "# launch the daemon if needed"
   ]
  },
  {
   "cell_type": "markdown",
   "metadata": {},
   "source": [
    "inside the bin dir of mongo\n",
    "mkdir aulaMONGODB\n",
    "Macs-MBP-4:bin pedro$ mongod --dbpath aulaMONGODB"
   ]
  },
  {
   "cell_type": "markdown",
   "metadata": {},
   "source": [
    "# Connect the client"
   ]
  },
  {
   "cell_type": "code",
   "execution_count": 6,
   "metadata": {},
   "outputs": [],
   "source": [
    "client = pymongo.MongoClient(\"mongodb://host.docker.internal:32768/\")"
   ]
  },
  {
   "cell_type": "code",
   "execution_count": 7,
   "metadata": {},
   "outputs": [
    {
     "data": {
      "text/plain": [
       "['admin', 'config', 'local']"
      ]
     },
     "execution_count": 7,
     "metadata": {},
     "output_type": "execute_result"
    }
   ],
   "source": [
    "client.list_database_names()"
   ]
  },
  {
   "cell_type": "markdown",
   "metadata": {},
   "source": [
    "# Create and use a simple DB"
   ]
  },
  {
   "cell_type": "markdown",
   "metadata": {},
   "source": [
    "## create a DB with patients health data"
   ]
  },
  {
   "cell_type": "code",
   "execution_count": 8,
   "metadata": {},
   "outputs": [],
   "source": [
    "db = client[\"med_data\"]"
   ]
  },
  {
   "cell_type": "markdown",
   "metadata": {},
   "source": [
    "## Add a patients data collection (like a table)"
   ]
  },
  {
   "cell_type": "code",
   "execution_count": 9,
   "metadata": {},
   "outputs": [],
   "source": [
    "patient_data = db[\"patient_data\"]"
   ]
  },
  {
   "cell_type": "markdown",
   "metadata": {},
   "source": [
    "## Insert data"
   ]
  },
  {
   "cell_type": "raw",
   "metadata": {},
   "source": [
    "name, age, biological sex and heart rate. \n",
    "\n",
    "blood pressure (systolic and diastolic pressure), millimetres of mercury (mmHg), for example 156/82."
   ]
  },
  {
   "cell_type": "code",
   "execution_count": 10,
   "metadata": {},
   "outputs": [],
   "source": [
    "patient_record = {\n",
    "   \"Name\": \"Maureen Skinner\",\n",
    "   \"Age\": 87,\n",
    "   \"Sex\": \"F\",\n",
    "   \"Blood pressure\": [{\"sys\": 156}, {\"dia\": 82}],\n",
    "   \"Heart rate\": 82\n",
    "}"
   ]
  },
  {
   "cell_type": "raw",
   "metadata": {},
   "source": [
    "This is called a document (equivalent to a row in RDBMS). You can add multiple documents using commas"
   ]
  },
  {
   "cell_type": "markdown",
   "metadata": {},
   "source": [
    "## Now insert and query it\n",
    "hints: \n",
    "use insert_one TO INSERT\n",
    "\n",
    "TO QUERY USE for item in ?.find():\n",
    "        print(item)"
   ]
  },
  {
   "cell_type": "code",
   "execution_count": 13,
   "metadata": {},
   "outputs": [
    {
     "data": {
      "text/plain": [
       "<pymongo.results.InsertOneResult at 0xffff6390fbb0>"
      ]
     },
     "execution_count": 13,
     "metadata": {},
     "output_type": "execute_result"
    }
   ],
   "source": [
    "patient_data.insert_one(patient_record)"
   ]
  },
  {
   "cell_type": "code",
   "execution_count": 15,
   "metadata": {},
   "outputs": [
    {
     "name": "stdout",
     "output_type": "stream",
     "text": [
      "{'_id': ObjectId('6419e38e95ad57ffb1e6342f'), 'Name': 'Maureen Skinner', 'Age': 87, 'Sex': 'F', 'Blood pressure': [{'sys': 156}, {'dia': 82}], 'Heart rate': 82}\n"
     ]
    },
    {
     "data": {
      "text/plain": [
       "[None]"
      ]
     },
     "execution_count": 15,
     "metadata": {},
     "output_type": "execute_result"
    }
   ],
   "source": [
    "list(map(print,patient_data.find()))"
   ]
  },
  {
   "cell_type": "markdown",
   "metadata": {},
   "source": [
    "## Pretty print it..."
   ]
  },
  {
   "cell_type": "code",
   "execution_count": 16,
   "metadata": {},
   "outputs": [
    {
     "name": "stdout",
     "output_type": "stream",
     "text": [
      "{'Age': 87,\n",
      " 'Blood pressure': [{'sys': 156}, {'dia': 82}],\n",
      " 'Heart rate': 82,\n",
      " 'Name': 'Maureen Skinner',\n",
      " 'Sex': 'F',\n",
      " '_id': ObjectId('6419e38e95ad57ffb1e6342f')}\n"
     ]
    }
   ],
   "source": [
    "from pprint import pprint\n",
    "\n",
    "for item in patient_data.find():\n",
    "    pprint(item)"
   ]
  },
  {
   "cell_type": "raw",
   "metadata": {},
   "source": [
    "ObjectId to uniquely identify each document. This is a 12-byte hexadecimal string consisting of a timestamp, randomly generated value and incrementing counter. "
   ]
  },
  {
   "cell_type": "markdown",
   "metadata": {},
   "source": [
    "## Add multiple documents to the collection\n",
    "hint: use insert_many"
   ]
  },
  {
   "cell_type": "code",
   "execution_count": 17,
   "metadata": {},
   "outputs": [],
   "source": [
    "patient_records = [\n",
    " {\n",
    "   \"Name\": \"Adam Blythe\",\n",
    "   \"Age\": 55,\n",
    "   \"Sex\": \"M\",\n",
    "   \"Blood pressure\": [{\"sys\": 132}, {\"dia\": 73}],\n",
    "   \"Heart rate\": 73\n",
    " },\n",
    " {\n",
    "   \"Name\": \"Darren Sanders\",\n",
    "   \"Age\": 34,\n",
    "   \"Sex\": \"M\",\n",
    "   \"Blood pressure\": [{\"sys\": 120}, {\"dia\": 70}],\n",
    "   \"Heart rate\": 67\n",
    " },\n",
    " {\n",
    "   \"Name\": \"Sally-Ann Joyce\",\n",
    "   \"Age\": 19,\n",
    "   \"Sex\": \"F\",\n",
    "   \"Blood pressure\": [{\"sys\": 121}, {\"dia\": 72}],\n",
    "   \"Heart rate\": 67\n",
    " }\n",
    "]\n"
   ]
  },
  {
   "cell_type": "code",
   "execution_count": 18,
   "metadata": {},
   "outputs": [
    {
     "data": {
      "text/plain": [
       "<pymongo.results.InsertManyResult at 0xffff6390fb20>"
      ]
     },
     "execution_count": 18,
     "metadata": {},
     "output_type": "execute_result"
    }
   ],
   "source": [
    "patient_data.insert_many(patient_records)"
   ]
  },
  {
   "cell_type": "code",
   "execution_count": 19,
   "metadata": {},
   "outputs": [
    {
     "name": "stdout",
     "output_type": "stream",
     "text": [
      "{'Age': 87,\n",
      " 'Blood pressure': [{'sys': 156}, {'dia': 82}],\n",
      " 'Heart rate': 82,\n",
      " 'Name': 'Maureen Skinner',\n",
      " 'Sex': 'F',\n",
      " '_id': ObjectId('6419e38e95ad57ffb1e6342f')}\n",
      "{'Age': 55,\n",
      " 'Blood pressure': [{'sys': 132}, {'dia': 73}],\n",
      " 'Heart rate': 73,\n",
      " 'Name': 'Adam Blythe',\n",
      " 'Sex': 'M',\n",
      " '_id': ObjectId('6419e3c295ad57ffb1e63430')}\n",
      "{'Age': 34,\n",
      " 'Blood pressure': [{'sys': 120}, {'dia': 70}],\n",
      " 'Heart rate': 67,\n",
      " 'Name': 'Darren Sanders',\n",
      " 'Sex': 'M',\n",
      " '_id': ObjectId('6419e3c295ad57ffb1e63431')}\n",
      "{'Age': 19,\n",
      " 'Blood pressure': [{'sys': 121}, {'dia': 72}],\n",
      " 'Heart rate': 67,\n",
      " 'Name': 'Sally-Ann Joyce',\n",
      " 'Sex': 'F',\n",
      " '_id': ObjectId('6419e3c295ad57ffb1e63432')}\n"
     ]
    }
   ],
   "source": [
    "for item in patient_data.find():\n",
    "    pprint(item)"
   ]
  },
  {
   "cell_type": "markdown",
   "metadata": {},
   "source": [
    "## UPDATE: Darren Sanders heart rate was supposed to be 88\n",
    "hints: use update_one\n",
    "   to choose Darren: {\"Name\": \"Darren Sanders\"}\n",
    "   to change the heart rate: {\"$set\":{\"Heart rate\": 88}}"
   ]
  },
  {
   "cell_type": "code",
   "execution_count": 20,
   "metadata": {},
   "outputs": [
    {
     "data": {
      "text/plain": [
       "<pymongo.results.UpdateResult at 0xffff6390fb80>"
      ]
     },
     "execution_count": 20,
     "metadata": {},
     "output_type": "execute_result"
    }
   ],
   "source": [
    "patient_data.update_one({\"Name\": \"Darren Sanders\"},{\"$set\":{\"Heart rate\": 88}})"
   ]
  },
  {
   "cell_type": "code",
   "execution_count": 21,
   "metadata": {},
   "outputs": [
    {
     "data": {
      "text/plain": [
       "{'_id': ObjectId('6419e3c295ad57ffb1e63431'),\n",
       " 'Name': 'Darren Sanders',\n",
       " 'Age': 34,\n",
       " 'Sex': 'M',\n",
       " 'Blood pressure': [{'sys': 120}, {'dia': 70}],\n",
       " 'Heart rate': 88}"
      ]
     },
     "execution_count": 21,
     "metadata": {},
     "output_type": "execute_result"
    }
   ],
   "source": [
    "patient_data.find_one({\"Name\": \"Darren Sanders\"})"
   ]
  },
  {
   "cell_type": "markdown",
   "metadata": {},
   "source": [
    "# Linking (similar to foreign keys in RDBMS)"
   ]
  },
  {
   "cell_type": "markdown",
   "metadata": {},
   "source": [
    "## we want to store some other medical test results for a patient. \n",
    "This could include some blood test results and an ECG/EKG image for \n",
    "some investigations for a heart attack and some blood tests, \n",
    "including:\n",
    "    \n",
    "Creatine Kinase (CK)\n",
    "Troponin I (TROP)\n",
    "Aspartate aminotransferase (AST)"
   ]
  },
  {
   "cell_type": "raw",
   "metadata": {},
   "source": [
    "patient_record = {\n",
    "  \"Hospital number\": \"3432543\",\n",
    "  \"Name\": \"Karen Baker\",\n",
    "  \"Age\": 45,\n",
    "  \"Sex\": \"F\",\n",
    "  \"Blood pressure\": [{\"sys\": 126}, {\"dia\": 72}],\n",
    "  \"Heart rate\": 78,\n",
    "  \"Test results\" : []\n",
    "}"
   ]
  },
  {
   "cell_type": "raw",
   "metadata": {},
   "source": [
    "The test results to add are:\n",
    "       \"ECG\": \"\\scans\\ECGs\\ecg00023.png\"\n",
    "       \"BIOCHEM\": [{\"AST\": 37}, {\"CK\": 180}, {\"TROPT\": 0.03}]     "
   ]
  },
  {
   "cell_type": "markdown",
   "metadata": {},
   "source": [
    "## Add the patient document with those values, THEN query to see those values\n",
    "hints: use insert_one\n",
    "        use find"
   ]
  },
  {
   "cell_type": "code",
   "execution_count": 23,
   "metadata": {},
   "outputs": [],
   "source": [
    "patient_record = {\n",
    "  \"Hospital number\": \"3432543\",\n",
    "  \"Name\": \"Karen Baker\",\n",
    "  \"Age\": 45,\n",
    "  \"Sex\": \"F\",\n",
    "  \"Blood pressure\": [{\"sys\": 126}, {\"dia\": 72}],\n",
    "  \"Heart rate\": 78,\n",
    "  \"Test results\" : {\n",
    "      \"ECG\": \"\\scans\\ECGs\\ecg00023.png\",\n",
    "      \"BIOCHEM\": [{\"AST\": 37}, {\"CK\": 180}, {\"TROPT\": 0.03}] ,\n",
    "  },\n",
    "}"
   ]
  },
  {
   "cell_type": "code",
   "execution_count": 24,
   "metadata": {},
   "outputs": [
    {
     "data": {
      "text/plain": [
       "<pymongo.results.InsertOneResult at 0xffff6390faf0>"
      ]
     },
     "execution_count": 24,
     "metadata": {},
     "output_type": "execute_result"
    }
   ],
   "source": [
    "patient_data.insert_one(patient_record)"
   ]
  },
  {
   "cell_type": "code",
   "execution_count": 27,
   "metadata": {},
   "outputs": [
    {
     "data": {
      "text/plain": [
       "{'_id': ObjectId('6419ec2b95ad57ffb1e63433'),\n",
       " 'Hospital number': '3432543',\n",
       " 'Name': 'Karen Baker',\n",
       " 'Age': 45,\n",
       " 'Sex': 'F',\n",
       " 'Blood pressure': [{'sys': 126}, {'dia': 72}],\n",
       " 'Heart rate': 78,\n",
       " 'Test results': {'ECG': '\\\\scans\\\\ECGs\\\\ecg00023.png',\n",
       "  'BIOCHEM': [{'AST': 37}, {'CK': 180}, {'TROPT': 0.03}]}}"
      ]
     },
     "execution_count": 27,
     "metadata": {},
     "output_type": "execute_result"
    }
   ],
   "source": [
    "patient_data.find_one({\"Name\":\"Karen Baker\"})"
   ]
  },
  {
   "cell_type": "markdown",
   "metadata": {},
   "source": [
    "## Now we want to link to another collection representing medication data - first insert the data\n",
    "hint: use insert_many"
   ]
  },
  {
   "cell_type": "code",
   "execution_count": 28,
   "metadata": {},
   "outputs": [],
   "source": [
    "medication_data = db[\"medication_data\"]"
   ]
  },
  {
   "cell_type": "code",
   "execution_count": 29,
   "metadata": {},
   "outputs": [],
   "source": [
    "medication_record = [\n",
    " {\n",
    "   \"Drug name\": \"Omeprazole\",\n",
    "   \"Type\": \"Proton pump inhibitor\",\n",
    "   \"Oral dose\": \"20mg once daily\",\n",
    "   \"IV dose\": \"40mg\",\n",
    "   \"Net price (GBP)\": 4.29\n",
    " },\n",
    " {\n",
    "   \"Drug name\": \"Amitriptyline\",\n",
    "   \"Type\": \"Tricyclic antidepressant\",\n",
    "   \"Oral dose\": \"30–75mg daily\",\n",
    "   \"IV dose\": \"N/A\",\n",
    "   \"Net price (GBP)\": 1.32\n",
    " }\n",
    "]\n"
   ]
  },
  {
   "cell_type": "code",
   "execution_count": 31,
   "metadata": {},
   "outputs": [
    {
     "data": {
      "text/plain": [
       "<pymongo.results.InsertManyResult at 0xffff6390fa30>"
      ]
     },
     "execution_count": 31,
     "metadata": {},
     "output_type": "execute_result"
    }
   ],
   "source": [
    "medication_data.insert_many(medication_record)"
   ]
  },
  {
   "cell_type": "code",
   "execution_count": 32,
   "metadata": {},
   "outputs": [
    {
     "name": "stdout",
     "output_type": "stream",
     "text": [
      "{'Drug name': 'Omeprazole',\n",
      " 'IV dose': '40mg',\n",
      " 'Net price (GBP)': 4.29,\n",
      " 'Oral dose': '20mg once daily',\n",
      " 'Type': 'Proton pump inhibitor',\n",
      " '_id': ObjectId('6419ec6c95ad57ffb1e63434')}\n",
      "{'Drug name': 'Amitriptyline',\n",
      " 'IV dose': 'N/A',\n",
      " 'Net price (GBP)': 1.32,\n",
      " 'Oral dose': '30–75mg daily',\n",
      " 'Type': 'Tricyclic antidepressant',\n",
      " '_id': ObjectId('6419ec6c95ad57ffb1e63435')}\n"
     ]
    }
   ],
   "source": [
    "for item in medication_data.find():\n",
    "    pprint(item)"
   ]
  },
  {
   "cell_type": "markdown",
   "metadata": {},
   "source": [
    "## Now link that medication to patients\n",
    "hint:complete the parts with a question mark..."
   ]
  },
  {
   "cell_type": "code",
   "execution_count": 42,
   "metadata": {},
   "outputs": [],
   "source": [
    "from bson.dbref import DBRef\n",
    "from bson.objectid import ObjectId\n",
    "patient_records = [\n",
    " {\n",
    "   \"Hospital number\": \"9956734\",\n",
    "   \"Name\": \"Adam Blythe\",\n",
    "   \"Age\": 55,\n",
    "   \"Sex\": \"M\",\n",
    "   \"medications\": [\n",
    "     DBRef('medication_data',id=ObjectId('6419ec6c95ad57ffb1e63434')),\n",
    "     DBRef('medication_data', id=ObjectId('6419ec6c95ad57ffb1e63435'))\n",
    "   ]\n",
    " },\n",
    " {\n",
    "   \"Hospital number\": \"4543673\",\n",
    "   \"Name\": \"Darren Sanders\",\n",
    "   \"Age\": 34,\n",
    "   \"Sex\": \"M\",\n",
    "   \"medications\": [\n",
    "    DBRef('medication_data', id=ObjectId('6419ec6c95ad57ffb1e63435'))\n",
    "   ]\n",
    " }\n",
    "]"
   ]
  },
  {
   "cell_type": "code",
   "execution_count": 43,
   "metadata": {},
   "outputs": [],
   "source": [
    "for record in patient_records:\n",
    "    patient_data.update_one({ 'Name' : record[\"Name\"]},{'$set': record},upsert=True)"
   ]
  },
  {
   "cell_type": "code",
   "execution_count": 44,
   "metadata": {},
   "outputs": [
    {
     "name": "stdout",
     "output_type": "stream",
     "text": [
      "{'Age': 87,\n",
      " 'Blood pressure': [{'sys': 156}, {'dia': 82}],\n",
      " 'Heart rate': 82,\n",
      " 'Name': 'Maureen Skinner',\n",
      " 'Sex': 'F',\n",
      " '_id': ObjectId('6419e38e95ad57ffb1e6342f')}\n",
      "{'Age': 55,\n",
      " 'Blood pressure': [{'sys': 132}, {'dia': 73}],\n",
      " 'Heart rate': 73,\n",
      " 'Hospital number': '9956734',\n",
      " 'Name': 'Adam Blythe',\n",
      " 'Sex': 'M',\n",
      " '_id': ObjectId('6419e3c295ad57ffb1e63430'),\n",
      " 'medications': [DBRef('medication_data', ObjectId('6419ec6c95ad57ffb1e63434')),\n",
      "                 DBRef('medication_data', ObjectId('6419ec6c95ad57ffb1e63435'))]}\n",
      "{'Age': 34,\n",
      " 'Blood pressure': [{'sys': 120}, {'dia': 70}],\n",
      " 'Heart rate': 88,\n",
      " 'Hospital number': '4543673',\n",
      " 'Name': 'Darren Sanders',\n",
      " 'Sex': 'M',\n",
      " '_id': ObjectId('6419e3c295ad57ffb1e63431'),\n",
      " 'medications': [DBRef('medication_data', ObjectId('6419ec6c95ad57ffb1e63435'))]}\n",
      "{'Age': 19,\n",
      " 'Blood pressure': [{'sys': 121}, {'dia': 72}],\n",
      " 'Heart rate': 67,\n",
      " 'Name': 'Sally-Ann Joyce',\n",
      " 'Sex': 'F',\n",
      " '_id': ObjectId('6419e3c295ad57ffb1e63432')}\n",
      "{'Age': 45,\n",
      " 'Blood pressure': [{'sys': 126}, {'dia': 72}],\n",
      " 'Heart rate': 78,\n",
      " 'Hospital number': '3432543',\n",
      " 'Name': 'Karen Baker',\n",
      " 'Sex': 'F',\n",
      " 'Test results': {'BIOCHEM': [{'AST': 37}, {'CK': 180}, {'TROPT': 0.03}],\n",
      "                  'ECG': '\\\\scans\\\\ECGs\\\\ecg00023.png'},\n",
      " '_id': ObjectId('6419ec2b95ad57ffb1e63433')}\n"
     ]
    }
   ],
   "source": [
    "for item in patient_data.find():\n",
    "    pprint(item)"
   ]
  },
  {
   "cell_type": "markdown",
   "metadata": {},
   "source": [
    "# Make sure you do not have repeated documents for Darren Sanders (delete, reinsert)"
   ]
  },
  {
   "cell_type": "code",
   "execution_count": 45,
   "metadata": {},
   "outputs": [
    {
     "name": "stdout",
     "output_type": "stream",
     "text": [
      "{'_id': ObjectId('6419e3c295ad57ffb1e63431'), 'Name': 'Darren Sanders', 'Age': 34, 'Sex': 'M', 'Blood pressure': [{'sys': 120}, {'dia': 70}], 'Heart rate': 88, 'Hospital number': '4543673', 'medications': [DBRef('medication_data', ObjectId('6419ec6c95ad57ffb1e63435'))]}\n"
     ]
    }
   ],
   "source": [
    "for x in patient_data.find({\"Name\":\"Darren Sanders\"}):\n",
    "    print(x)"
   ]
  },
  {
   "cell_type": "markdown",
   "metadata": {},
   "source": [
    "# Do the same for Adam Blythe but using delete, insert the initial record without medication references, update to add medication references"
   ]
  },
  {
   "cell_type": "code",
   "execution_count": 46,
   "metadata": {},
   "outputs": [
    {
     "data": {
      "text/plain": [
       "{'_id': ObjectId('6419f06795ad57ffb1e63436'),\n",
       " 'Name': 'Adam Blythe',\n",
       " 'Age': 55,\n",
       " 'Sex': 'M',\n",
       " 'Blood pressure': [{'sys': 132}, {'dia': 73}],\n",
       " 'Heart rate': 73,\n",
       " 'Hospital number': '9956734',\n",
       " 'medications': [DBRef('medication_data', ObjectId('6419ec6c95ad57ffb1e63434')),\n",
       "  DBRef('medication_data', ObjectId('6419ec6c95ad57ffb1e63435'))]}"
      ]
     },
     "execution_count": 46,
     "metadata": {},
     "output_type": "execute_result"
    }
   ],
   "source": [
    "patient_data.delete_one({\"Name\":\"Adam Blythe\"})\n",
    "patient_data.insert_one({\n",
    "   \"Name\": \"Adam Blythe\",\n",
    "   \"Age\": 55,\n",
    "   \"Sex\": \"M\",\n",
    "   \"Blood pressure\": [{\"sys\": 132}, {\"dia\": 73}],\n",
    "   \"Heart rate\": 73\n",
    " })\n",
    "patient_data.update_one({\"Name\":\"Adam Blythe\"},{\"$set\":{\n",
    "   \"Hospital number\": \"9956734\",\n",
    "   \"Name\": \"Adam Blythe\",\n",
    "   \"Age\": 55,\n",
    "   \"Sex\": \"M\",\n",
    "   \"medications\": [\n",
    "     DBRef('medication_data',id=ObjectId('6419ec6c95ad57ffb1e63434')),\n",
    "     DBRef('medication_data', id=ObjectId('6419ec6c95ad57ffb1e63435'))\n",
    "   ]\n",
    " }})\n",
    "patient_data.find_one({\"Name\":\"Adam Blythe\"})\n"
   ]
  },
  {
   "cell_type": "markdown",
   "metadata": {},
   "source": [
    "# Joining the two collections\n",
    "\n",
    "cur=db.patient_data.aggregate([\n",
    "    { \"$lookup\":\n",
    "        {\n",
    "           \"from\": ?,\n",
    "           \"localField\": ?,\n",
    "           \"foreignField\": ?,\n",
    "           \"as\": \"medications\"\n",
    "        }\n",
    "    }\n",
    "])\n"
   ]
  },
  {
   "cell_type": "code",
   "execution_count": 52,
   "metadata": {},
   "outputs": [
    {
     "name": "stdout",
     "output_type": "stream",
     "text": [
      "{'_id': ObjectId('6419e38e95ad57ffb1e6342f'), 'Name': 'Maureen Skinner', 'Age': 87, 'Sex': 'F', 'Blood pressure': [{'sys': 156}, {'dia': 82}], 'Heart rate': 82, 'medications': [{'_id': ObjectId('6419ec6c95ad57ffb1e63434'), 'Drug name': 'Omeprazole', 'Type': 'Proton pump inhibitor', 'Oral dose': '20mg once daily', 'IV dose': '40mg', 'Net price (GBP)': 4.29}, {'_id': ObjectId('6419ec6c95ad57ffb1e63435'), 'Drug name': 'Amitriptyline', 'Type': 'Tricyclic antidepressant', 'Oral dose': '30–75mg daily', 'IV dose': 'N/A', 'Net price (GBP)': 1.32}]}\n",
      "{'_id': ObjectId('6419e3c295ad57ffb1e63431'), 'Name': 'Darren Sanders', 'Age': 34, 'Sex': 'M', 'Blood pressure': [{'sys': 120}, {'dia': 70}], 'Heart rate': 88, 'Hospital number': '4543673', 'medications': []}\n",
      "{'_id': ObjectId('6419e3c295ad57ffb1e63432'), 'Name': 'Sally-Ann Joyce', 'Age': 19, 'Sex': 'F', 'Blood pressure': [{'sys': 121}, {'dia': 72}], 'Heart rate': 67, 'medications': [{'_id': ObjectId('6419ec6c95ad57ffb1e63434'), 'Drug name': 'Omeprazole', 'Type': 'Proton pump inhibitor', 'Oral dose': '20mg once daily', 'IV dose': '40mg', 'Net price (GBP)': 4.29}, {'_id': ObjectId('6419ec6c95ad57ffb1e63435'), 'Drug name': 'Amitriptyline', 'Type': 'Tricyclic antidepressant', 'Oral dose': '30–75mg daily', 'IV dose': 'N/A', 'Net price (GBP)': 1.32}]}\n",
      "{'_id': ObjectId('6419ec2b95ad57ffb1e63433'), 'Hospital number': '3432543', 'Name': 'Karen Baker', 'Age': 45, 'Sex': 'F', 'Blood pressure': [{'sys': 126}, {'dia': 72}], 'Heart rate': 78, 'Test results': {'ECG': '\\\\scans\\\\ECGs\\\\ecg00023.png', 'BIOCHEM': [{'AST': 37}, {'CK': 180}, {'TROPT': 0.03}]}, 'medications': [{'_id': ObjectId('6419ec6c95ad57ffb1e63434'), 'Drug name': 'Omeprazole', 'Type': 'Proton pump inhibitor', 'Oral dose': '20mg once daily', 'IV dose': '40mg', 'Net price (GBP)': 4.29}, {'_id': ObjectId('6419ec6c95ad57ffb1e63435'), 'Drug name': 'Amitriptyline', 'Type': 'Tricyclic antidepressant', 'Oral dose': '30–75mg daily', 'IV dose': 'N/A', 'Net price (GBP)': 1.32}]}\n",
      "{'_id': ObjectId('6419f06795ad57ffb1e63436'), 'Name': 'Adam Blythe', 'Age': 55, 'Sex': 'M', 'Blood pressure': [{'sys': 132}, {'dia': 73}], 'Heart rate': 73, 'Hospital number': '9956734', 'medications': []}\n"
     ]
    }
   ],
   "source": [
    "for x in patient_data.aggregate([\n",
    "    { \"$lookup\":\n",
    "        {\n",
    "           \"from\": \"medication_data\",\n",
    "           \"localField\": \"medications\",\n",
    "           \"foreignField\": \"medications\",\n",
    "           \"as\": \"medications\"\n",
    "        }\n",
    "    }\n",
    "]):\n",
    "    print(x)"
   ]
  },
  {
   "cell_type": "markdown",
   "metadata": {},
   "source": [
    "# Querying data with conditions"
   ]
  },
  {
   "cell_type": "raw",
   "metadata": {},
   "source": [
    "collection.find({ <query> }, { <field(s)> })"
   ]
  },
  {
   "cell_type": "markdown",
   "metadata": {},
   "source": [
    "## Find patient with the name “Darren Sanders”\n",
    "hint: use find with the condition {\"Name\": \"Darren Sanders\"}"
   ]
  },
  {
   "cell_type": "code",
   "execution_count": 54,
   "metadata": {},
   "outputs": [
    {
     "data": {
      "text/plain": [
       "{'_id': ObjectId('6419e3c295ad57ffb1e63431'),\n",
       " 'Name': 'Darren Sanders',\n",
       " 'Age': 34,\n",
       " 'Sex': 'M',\n",
       " 'Blood pressure': [{'sys': 120}, {'dia': 70}],\n",
       " 'Heart rate': 88,\n",
       " 'Hospital number': '4543673',\n",
       " 'medications': [DBRef('medication_data', ObjectId('6419ec6c95ad57ffb1e63435'))]}"
      ]
     },
     "execution_count": 54,
     "metadata": {},
     "output_type": "execute_result"
    }
   ],
   "source": [
    "patient_data.find_one({\"Name\": \"Darren Sanders\"})"
   ]
  },
  {
   "cell_type": "markdown",
   "metadata": {},
   "source": [
    "## test whether there are two Darrens, if so, show both: "
   ]
  },
  {
   "cell_type": "code",
   "execution_count": 55,
   "metadata": {},
   "outputs": [
    {
     "name": "stdout",
     "output_type": "stream",
     "text": [
      "{'Age': 34,\n",
      " 'Blood pressure': [{'sys': 120}, {'dia': 70}],\n",
      " 'Heart rate': 88,\n",
      " 'Hospital number': '4543673',\n",
      " 'Name': 'Darren Sanders',\n",
      " 'Sex': 'M',\n",
      " '_id': ObjectId('6419e3c295ad57ffb1e63431'),\n",
      " 'medications': [DBRef('medication_data', ObjectId('6419ec6c95ad57ffb1e63435'))]}\n"
     ]
    }
   ],
   "source": [
    "query = {\"Name\": \"Darren Sanders\"}\n",
    "doc = patient_data.find(query)\n",
    "for i in doc:\n",
    "  pprint(i)"
   ]
  },
  {
   "cell_type": "markdown",
   "metadata": {},
   "source": [
    "## Show the names of patients with heart rates higher than 70 \n",
    "hint: condition: {\"Heart rate\": {\"$gt\": 70}}, {\"Name\"}"
   ]
  },
  {
   "cell_type": "code",
   "execution_count": 58,
   "metadata": {},
   "outputs": [
    {
     "name": "stdout",
     "output_type": "stream",
     "text": [
      "{'Age': 87,\n",
      " 'Blood pressure': [{'sys': 156}, {'dia': 82}],\n",
      " 'Heart rate': 82,\n",
      " 'Name': 'Maureen Skinner',\n",
      " 'Sex': 'F',\n",
      " '_id': ObjectId('6419e38e95ad57ffb1e6342f')}\n",
      "{'Age': 34,\n",
      " 'Blood pressure': [{'sys': 120}, {'dia': 70}],\n",
      " 'Heart rate': 88,\n",
      " 'Hospital number': '4543673',\n",
      " 'Name': 'Darren Sanders',\n",
      " 'Sex': 'M',\n",
      " '_id': ObjectId('6419e3c295ad57ffb1e63431'),\n",
      " 'medications': [DBRef('medication_data', ObjectId('6419ec6c95ad57ffb1e63435'))]}\n",
      "{'Age': 45,\n",
      " 'Blood pressure': [{'sys': 126}, {'dia': 72}],\n",
      " 'Heart rate': 78,\n",
      " 'Hospital number': '3432543',\n",
      " 'Name': 'Karen Baker',\n",
      " 'Sex': 'F',\n",
      " 'Test results': {'BIOCHEM': [{'AST': 37}, {'CK': 180}, {'TROPT': 0.03}],\n",
      "                  'ECG': '\\\\scans\\\\ECGs\\\\ecg00023.png'},\n",
      " '_id': ObjectId('6419ec2b95ad57ffb1e63433')}\n",
      "{'Age': 55,\n",
      " 'Blood pressure': [{'sys': 132}, {'dia': 73}],\n",
      " 'Heart rate': 73,\n",
      " 'Hospital number': '9956734',\n",
      " 'Name': 'Adam Blythe',\n",
      " 'Sex': 'M',\n",
      " '_id': ObjectId('6419f06795ad57ffb1e63436'),\n",
      " 'medications': [DBRef('medication_data', ObjectId('6419ec6c95ad57ffb1e63434')),\n",
      "                 DBRef('medication_data', ObjectId('6419ec6c95ad57ffb1e63435'))]}\n"
     ]
    }
   ],
   "source": [
    "for heart_rate in patient_data.find({\"Heart rate\":{\"$gt\":70}}):\n",
    "   pprint(heart_rate)"
   ]
  },
  {
   "cell_type": "markdown",
   "metadata": {},
   "source": [
    "## find patients with heart rate <= 70 and aged more than 18\n",
    "\n",
    "hint: complete the text to work..."
   ]
  },
  {
   "cell_type": "code",
   "execution_count": 63,
   "metadata": {},
   "outputs": [
    {
     "name": "stdout",
     "output_type": "stream",
     "text": [
      "{'Age': 19,\n",
      " 'Blood pressure': [{'sys': 121}, {'dia': 72}],\n",
      " 'Heart rate': 67,\n",
      " 'Name': 'Sally-Ann Joyce',\n",
      " 'Sex': 'F',\n",
      " '_id': ObjectId('6419e3c295ad57ffb1e63432')}\n"
     ]
    }
   ],
   "source": [
    "result = patient_data.find(\n",
    "    {\n",
    " \"$and\" : [\n",
    "     {\n",
    "         \"Heart rate\": {\"$lte\": 70}\n",
    "     },\n",
    "     {\n",
    "         \"Age\": {\"$gt\": 18}\n",
    "     }\n",
    "   ]\n",
    "})\n",
    "for pt in result:\n",
    "    pprint(pt)"
   ]
  },
  {
   "cell_type": "markdown",
   "metadata": {},
   "source": [
    "## find the patients with a systolic (sys) blood pressure less than 140 mmHG (mm of mercury)\n",
    "hints: \n",
    "{\"Blood pressure.sys\": {\"$?\": ?}}\n",
    "\n",
    "use . to access the array elements"
   ]
  },
  {
   "cell_type": "code",
   "execution_count": 65,
   "metadata": {},
   "outputs": [
    {
     "name": "stdout",
     "output_type": "stream",
     "text": [
      "{'Age': 34,\n",
      " 'Blood pressure': [{'sys': 120}, {'dia': 70}],\n",
      " 'Heart rate': 88,\n",
      " 'Hospital number': '4543673',\n",
      " 'Name': 'Darren Sanders',\n",
      " 'Sex': 'M',\n",
      " '_id': ObjectId('6419e3c295ad57ffb1e63431'),\n",
      " 'medications': [DBRef('medication_data', ObjectId('6419ec6c95ad57ffb1e63435'))]}\n",
      "{'Age': 19,\n",
      " 'Blood pressure': [{'sys': 121}, {'dia': 72}],\n",
      " 'Heart rate': 67,\n",
      " 'Name': 'Sally-Ann Joyce',\n",
      " 'Sex': 'F',\n",
      " '_id': ObjectId('6419e3c295ad57ffb1e63432')}\n",
      "{'Age': 45,\n",
      " 'Blood pressure': [{'sys': 126}, {'dia': 72}],\n",
      " 'Heart rate': 78,\n",
      " 'Hospital number': '3432543',\n",
      " 'Name': 'Karen Baker',\n",
      " 'Sex': 'F',\n",
      " 'Test results': {'BIOCHEM': [{'AST': 37}, {'CK': 180}, {'TROPT': 0.03}],\n",
      "                  'ECG': '\\\\scans\\\\ECGs\\\\ecg00023.png'},\n",
      " '_id': ObjectId('6419ec2b95ad57ffb1e63433')}\n",
      "{'Age': 55,\n",
      " 'Blood pressure': [{'sys': 132}, {'dia': 73}],\n",
      " 'Heart rate': 73,\n",
      " 'Hospital number': '9956734',\n",
      " 'Name': 'Adam Blythe',\n",
      " 'Sex': 'M',\n",
      " '_id': ObjectId('6419f06795ad57ffb1e63436'),\n",
      " 'medications': [DBRef('medication_data', ObjectId('6419ec6c95ad57ffb1e63434')),\n",
      "                 DBRef('medication_data', ObjectId('6419ec6c95ad57ffb1e63435'))]}\n"
     ]
    }
   ],
   "source": [
    "for normal in patient_data.find({\"Blood pressure.sys\": {\"$lt\": 140}}):\n",
    "    pprint(normal)"
   ]
  },
  {
   "cell_type": "markdown",
   "metadata": {},
   "source": [
    "# Now create a patient class in python that is a document"
   ]
  },
  {
   "cell_type": "code",
   "execution_count": 66,
   "metadata": {},
   "outputs": [
    {
     "name": "stdout",
     "output_type": "stream",
     "text": [
      "Collecting mongoengine\n",
      "  Downloading mongoengine-0.27.0-py3-none-any.whl (110 kB)\n",
      "\u001b[2K     \u001b[90m━━━━━━━━━━━━━━━━━━━━━━━━━━━━━━━━━━━━━━━\u001b[0m \u001b[32m110.6/110.6 kB\u001b[0m \u001b[31m4.4 MB/s\u001b[0m eta \u001b[36m0:00:00\u001b[0m\n",
      "\u001b[?25hRequirement already satisfied: pymongo<5.0,>=3.4 in /opt/conda/lib/python3.10/site-packages (from mongoengine) (4.3.3)\n",
      "Requirement already satisfied: dnspython<3.0.0,>=1.16.0 in /opt/conda/lib/python3.10/site-packages (from pymongo<5.0,>=3.4->mongoengine) (2.3.0)\n",
      "Installing collected packages: mongoengine\n",
      "Successfully installed mongoengine-0.27.0\n",
      "Note: you may need to restart the kernel to use updated packages.\n"
     ]
    }
   ],
   "source": [
    "%pip install mongoengine"
   ]
  },
  {
   "cell_type": "code",
   "execution_count": 71,
   "metadata": {},
   "outputs": [],
   "source": [
    "from mongoengine import *\n",
    "disconnect()\n",
    "connect('patient_data')\n",
    "\n",
    "class Patient(Document):\n",
    "    patient_id = StringField(required=True)\n",
    "    name = StringField()\n",
    "    age = IntField()\n",
    "    sex = StringField(max_length=1)\n",
    "    heart_rate = IntField()"
   ]
  },
  {
   "cell_type": "code",
   "execution_count": 68,
   "metadata": {},
   "outputs": [],
   "source": [
    "# create instances of this class in the standard way in Python. Here we can create a couple of patients called Maxine and Hamza. Note that we add the save() function to the end of the line to write this data to the database."
   ]
  },
  {
   "cell_type": "code",
   "execution_count": 73,
   "metadata": {},
   "outputs": [],
   "source": [
    "maxine_patient = Patient(patient_id = \"342453\", name = \"Maxine Smith\", age = 47, sex = \"F\", heart_rate = 67).save()\n",
    "\n",
    "hamza_patient = Patient(patient_id = \"543243\", name = \"Hamza Khan\", age = 22, sex = \"M\", heart_rate = 73).save()"
   ]
  },
  {
   "cell_type": "markdown",
   "metadata": {},
   "source": [
    "## View using python "
   ]
  },
  {
   "cell_type": "code",
   "execution_count": null,
   "metadata": {},
   "outputs": [],
   "source": [
    "for patient in Patient.objects:\n",
    "    print(patient.name, patient.patient_id, patient.age)"
   ]
  },
  {
   "cell_type": "markdown",
   "metadata": {},
   "source": [
    "## Now discover (find query) the patients using the class"
   ]
  },
  {
   "cell_type": "code",
   "execution_count": null,
   "metadata": {},
   "outputs": [],
   "source": [
    "client.list_database_names()\n",
    "\n",
    "for item in client['odm_patients'].patient.find():\n",
    "    print(item)"
   ]
  }
 ],
 "metadata": {
  "kernelspec": {
   "display_name": "Python 3 (ipykernel)",
   "language": "python",
   "name": "python3"
  },
  "language_info": {
   "codemirror_mode": {
    "name": "ipython",
    "version": 3
   },
   "file_extension": ".py",
   "mimetype": "text/x-python",
   "name": "python",
   "nbconvert_exporter": "python",
   "pygments_lexer": "ipython3",
   "version": "3.10.9"
  },
  "toc": {
   "base_numbering": 1,
   "nav_menu": {},
   "number_sections": true,
   "sideBar": true,
   "skip_h1_title": false,
   "title_cell": "Table of Contents",
   "title_sidebar": "Contents",
   "toc_cell": false,
   "toc_position": {},
   "toc_section_display": true,
   "toc_window_display": false
  },
  "varInspector": {
   "cols": {
    "lenName": 16,
    "lenType": 16,
    "lenVar": 40
   },
   "kernels_config": {
    "python": {
     "delete_cmd_postfix": "",
     "delete_cmd_prefix": "del ",
     "library": "var_list.py",
     "varRefreshCmd": "print(var_dic_list())"
    },
    "r": {
     "delete_cmd_postfix": ") ",
     "delete_cmd_prefix": "rm(",
     "library": "var_list.r",
     "varRefreshCmd": "cat(var_dic_list()) "
    }
   },
   "types_to_exclude": [
    "module",
    "function",
    "builtin_function_or_method",
    "instance",
    "_Feature"
   ],
   "window_display": false
  }
 },
 "nbformat": 4,
 "nbformat_minor": 4
}
